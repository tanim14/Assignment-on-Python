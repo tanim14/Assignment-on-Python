{
  "nbformat": 4,
  "nbformat_minor": 0,
  "metadata": {
    "colab": {
      "provenance": [],
      "authorship_tag": "ABX9TyMPhOloWXzWzRNH12XfBBTd",
      "include_colab_link": true
    },
    "kernelspec": {
      "name": "python3",
      "display_name": "Python 3"
    },
    "language_info": {
      "name": "python"
    }
  },
  "cells": [
    {
      "cell_type": "markdown",
      "metadata": {
        "id": "view-in-github",
        "colab_type": "text"
      },
      "source": [
        "<a href=\"https://colab.research.google.com/github/tanim14/Assignment-on-Python/blob/main/Assignment_01.ipynb\" target=\"_parent\"><img src=\"https://colab.research.google.com/assets/colab-badge.svg\" alt=\"Open In Colab\"/></a>"
      ]
    },
    {
      "cell_type": "code",
      "execution_count": 5,
      "metadata": {
        "id": "lbHhln3UO_Xj"
      },
      "outputs": [],
      "source": [
        "# Importing Pandas and Numpy libraries to work with datasets and arrays.\n",
        "import pandas as pd\n",
        "import numpy as np"
      ]
    },
    {
      "cell_type": "markdown",
      "source": [
        "# **Program 1**\n",
        "**Write a Python program to count the number of characters (character frequency) in a string.**"
      ],
      "metadata": {
        "id": "eVvKkOHyPBtk"
      }
    },
    {
      "cell_type": "code",
      "source": [
        "# Defining the string \n",
        "string = \"google.com\"\n",
        "\n",
        "# Creating an empty set\n",
        "charFreq = {}\n",
        "\n",
        "# Count the frequency of each character\n",
        "for char in string:\n",
        "  if char in charFreq:\n",
        "    charFreq [char] +=1\n",
        "  else:\n",
        "    charFreq [char] =1\n",
        "# Print the dictionary of character frequencies\n",
        "print(charFreq)"
      ],
      "metadata": {
        "colab": {
          "base_uri": "https://localhost:8080/"
        },
        "id": "ua-9H27OPcp8",
        "outputId": "c3ad47ba-7428-4cd3-d491-383764863a9b"
      },
      "execution_count": 6,
      "outputs": [
        {
          "output_type": "stream",
          "name": "stdout",
          "text": [
            "{'g': 2, 'o': 3, 'l': 1, 'e': 1, '.': 1, 'c': 1, 'm': 1}\n"
          ]
        }
      ]
    },
    {
      "cell_type": "markdown",
      "source": [
        "# **Program 2**\n",
        "**Write a Python program to check if a given key already exists in a dictionary.**"
      ],
      "metadata": {
        "id": "wLWeBxihRT_l"
      }
    },
    {
      "cell_type": "code",
      "source": [
        "# Create a dictionary\n",
        "dict = {\n",
        "  \"brand\": \"Ford\",\n",
        "  \"model\": \"Mustang\",\n",
        "  \"year\": 1964\n",
        "}\n",
        "# Check if a key exists in the dictionary or not!\n",
        "key = \"brand\"\n",
        "if key in dict:\n",
        "  print(f\"The key '{key}' exists in the dictionary.\")\n",
        "else: \n",
        "  print(f\"The key '{key}' does not exist in the dictionary.\")"
      ],
      "metadata": {
        "colab": {
          "base_uri": "https://localhost:8080/"
        },
        "id": "_aemf_QARhNF",
        "outputId": "b9169246-0474-4f9d-d033-3671a6c98c74"
      },
      "execution_count": 6,
      "outputs": [
        {
          "output_type": "stream",
          "name": "stdout",
          "text": [
            "The key 'brand' exists in the dictionary.\n"
          ]
        }
      ]
    },
    {
      "cell_type": "code",
      "source": [
        "# Create a dictionary\n",
        "dict = {\n",
        "  \"brand\": \"Ford\",\n",
        "  \"model\": \"Mustang\",\n",
        "  \"year\": 1964\n",
        "}\n",
        "# Check if a key exists in the dictionary or not!\n",
        "key = \"Ford\"\n",
        "if key in dict:\n",
        "  print(f\"The key '{key}' exists in the dictionary.\")\n",
        "else: \n",
        "  print(f\"The key '{key}' does not exist in the dictionary.\")"
      ],
      "metadata": {
        "colab": {
          "base_uri": "https://localhost:8080/"
        },
        "id": "UWw_C5SKSf50",
        "outputId": "ec53291b-f7f1-4b9b-a1dd-f4cc6ff58325"
      },
      "execution_count": 7,
      "outputs": [
        {
          "output_type": "stream",
          "name": "stdout",
          "text": [
            "The key 'Ford' does not exist in the dictionary.\n"
          ]
        }
      ]
    },
    {
      "cell_type": "markdown",
      "source": [
        "# **Program 3**\n",
        "**Write a Python program that accepts a sequence of comma-separated numbers from the\n",
        "user and generates a list and a tuple of those numbers.**"
      ],
      "metadata": {
        "id": "7VRFLf4mSx2d"
      }
    },
    {
      "cell_type": "code",
      "source": [
        "# Accept a sequence of comma-separated numbers from the user\n",
        "userInput = input(\"Enter a sequence of comma-separated numbers: \")\n",
        "\n",
        "# Convert the sequence of numbers to a list\n",
        "inputAsList = userInput.split(',')\n",
        "\n",
        "# Convert the sequence of numbers to a tuple\n",
        "inputAsTuple = tuple(inputAsList)\n",
        "\n",
        "# Print the List and Tuple of user generated numbers\n",
        "print(\"List: \", inputAsList)\n",
        "print(\"Tuple: \", inputAsTuple)"
      ],
      "metadata": {
        "colab": {
          "base_uri": "https://localhost:8080/"
        },
        "id": "hXT3WQXcTBPm",
        "outputId": "29b05a9c-f779-4af9-dcb4-8cfa8293e6f1"
      },
      "execution_count": 8,
      "outputs": [
        {
          "output_type": "stream",
          "name": "stdout",
          "text": [
            "Enter a sequence of comma-separated numbers: 1, 15, 6, 45\n",
            "List:  ['1', ' 15', ' 6', ' 45']\n",
            "Tuple:  ('1', ' 15', ' 6', ' 45')\n"
          ]
        }
      ]
    },
    {
      "cell_type": "markdown",
      "source": [
        "# **Program 4**\n",
        "**Write a Python program to calculate the number of days between two dates.**"
      ],
      "metadata": {
        "id": "iXs7PDngU0oD"
      }
    },
    {
      "cell_type": "code",
      "source": [
        "from datetime import date\n",
        "\n",
        "# Define two dates\n",
        "date1 = date(2014, 7, 2)\n",
        "date2 = date(2014, 7, 11)\n",
        "\n",
        "# Calculate the number of days betwen these two dates\n",
        "difference = date2 - date1\n",
        "numberOfDays = difference.days\n",
        "\n",
        "# Print the number of dates\n",
        "print(\"Number of days between\", date1, \"and\", date2, \"is\", numberOfDays, \"days.\")"
      ],
      "metadata": {
        "colab": {
          "base_uri": "https://localhost:8080/"
        },
        "id": "o63E1WFcU-mR",
        "outputId": "0eb0db75-a6de-4b27-8b8e-afaefa6fd37a"
      },
      "execution_count": 10,
      "outputs": [
        {
          "output_type": "stream",
          "name": "stdout",
          "text": [
            "Number of days between 2014-07-02 and 2014-07-11 is 9 days.\n"
          ]
        }
      ]
    },
    {
      "cell_type": "markdown",
      "source": [
        "# **Program 5**\n",
        "**Write a Python program to solve $(x + y)^2$**"
      ],
      "metadata": {
        "id": "XP_SvZGNW_Ud"
      }
    },
    {
      "cell_type": "code",
      "source": [
        "# Define the values of x and y.\n",
        "x = 4\n",
        "y = 3\n",
        "\n",
        "# Calculate the result of (x+y)^2\n",
        "squaredResult = (x+y)**2\n",
        "\n",
        "#Print the result\n",
        "print(\"({}+{})^2 = {}\".format(x,y,squaredResult))"
      ],
      "metadata": {
        "colab": {
          "base_uri": "https://localhost:8080/"
        },
        "id": "cz79x9feWtYy",
        "outputId": "179f0262-f725-406d-b0a9-16cf56066d86"
      },
      "execution_count": 14,
      "outputs": [
        {
          "output_type": "stream",
          "name": "stdout",
          "text": [
            "(4+3)^2 = 49\n"
          ]
        }
      ]
    },
    {
      "cell_type": "markdown",
      "source": [
        "#**Program 6**\n",
        "**Write a Python program to compute the future value of a specified principal amount,\n",
        "rate of interest, and number of years.**"
      ],
      "metadata": {
        "id": "OgkQ5UUsauD9"
      }
    },
    {
      "cell_type": "code",
      "source": [
        "# Defining Principal Amount, rate of interest and number of years.\n",
        "principalAmount = 50000\n",
        "rateOfInterest = 5.5\n",
        "numberOfYears = 10\n",
        "\n",
        "# Calculating the future value following the formula of compound interest.\n",
        "futureValue = principalAmount * (1 + rateOfInterest/100) ** numberOfYears\n",
        "\n",
        "# Printing the Future value\n",
        "print(\"Future Value: \", round(futureValue,2))"
      ],
      "metadata": {
        "colab": {
          "base_uri": "https://localhost:8080/"
        },
        "id": "GJjRXbxRaaCC",
        "outputId": "8ef66744-8c57-4fa1-a57f-608ab6d2f824"
      },
      "execution_count": 15,
      "outputs": [
        {
          "output_type": "stream",
          "name": "stdout",
          "text": [
            "Future Value:  85407.22\n"
          ]
        }
      ]
    },
    {
      "cell_type": "markdown",
      "source": [
        "# **Program 7**\n",
        "**Write a Python program that removes duplicate elements from a given array of numbers so\n",
        "that each element appears only once and returns the new length of the array.**"
      ],
      "metadata": {
        "id": "TupIBIGOcJWY"
      }
    },
    {
      "cell_type": "code",
      "source": [
        "# Defining the array of numbers\n",
        "arrayOfNumbers = [1,2,3,4,5,2,4,1,1,3,4]\n",
        "\n",
        "# Using set() to remove duplicates\n",
        "uniqueNumbers = list(set(arrayOfNumbers))\n",
        "\n",
        "# Printing the list of unique numbers and the length of the list\n",
        "print(\"The list of unique numbers: \", uniqueNumbers)\n",
        "print(\"The length of the unique list: \", len(uniqueNumbers))"
      ],
      "metadata": {
        "colab": {
          "base_uri": "https://localhost:8080/"
        },
        "id": "CQeHW3nob-c4",
        "outputId": "b86830f0-a3fb-4cea-a127-1f75a75234f5"
      },
      "execution_count": 16,
      "outputs": [
        {
          "output_type": "stream",
          "name": "stdout",
          "text": [
            "The list of unique numbers:  [1, 2, 3, 4, 5]\n",
            "The length of the unique list:  5\n"
          ]
        }
      ]
    },
    {
      "cell_type": "markdown",
      "source": [
        "#**Program 8**\n",
        "**Write a Python program to sort (ascending and descending) a dictionary by key value.**"
      ],
      "metadata": {
        "id": "oxm8vHFxkiUI"
      }
    },
    {
      "cell_type": "code",
      "source": [
        "# Defining a dictionary\n",
        "studentId = {\n",
        "    112: \"Eric\", \n",
        "    111: \"Kyle\", \n",
        "    113: \"Butters\"\n",
        "    }\n",
        "\n",
        "# Sorting the values of the dictionary according to the keys\n",
        "ascendingDictionary = sorted(studentId.items())\n",
        "descendingDictionary = sorted(studentId.items(), reverse = True)\n",
        "\n",
        "# Printing the original dictionary, dictionary in ascending order and dictionary in descending order.\n",
        "print(\"Original dictionary: \", studentId)\n",
        "print(\"Dictionary sorted by key in ascending order: \", ascendingDictionary)\n",
        "print(\"Dictionary sorted by key in descending order: \", descendingDictionary)"
      ],
      "metadata": {
        "colab": {
          "base_uri": "https://localhost:8080/"
        },
        "id": "Czrv1lmQd22a",
        "outputId": "df59ac00-bc31-4f4a-cdb0-ef85fe463bbc"
      },
      "execution_count": 4,
      "outputs": [
        {
          "output_type": "stream",
          "name": "stdout",
          "text": [
            "Original dictionary:  {112: 'Eric', 111: 'Kyle', 113: 'Butters'}\n",
            "Dictionary sorted by key in ascending order:  [(111, 'Kyle'), (112, 'Eric'), (113, 'Butters')]\n",
            "Dictionary sorted by key in descending order:  [(113, 'Butters'), (112, 'Eric'), (111, 'Kyle')]\n"
          ]
        }
      ]
    },
    {
      "cell_type": "markdown",
      "source": [
        "#**Program 9**\n",
        "**Write a Python program to add key to a dictionary.**"
      ],
      "metadata": {
        "id": "ud__1qH3pNPm"
      }
    },
    {
      "cell_type": "code",
      "source": [
        "# Create a dictionary\n",
        "myDict = {0:15, 1:30}\n",
        "\n",
        "# Adding a new key-value pair in the dictionary\n",
        "myDict[2] = 45\n",
        "\n",
        "# Printing the new dictionary\n",
        "print(\"Dictionary: \", myDict) "
      ],
      "metadata": {
        "colab": {
          "base_uri": "https://localhost:8080/"
        },
        "id": "1E-4Wsd1mOPe",
        "outputId": "2414221e-1ac6-4396-8976-f607723a701a"
      },
      "execution_count": 24,
      "outputs": [
        {
          "output_type": "stream",
          "name": "stdout",
          "text": [
            "Dictionary:  {0: 15, 1: 30, 2: 45}\n"
          ]
        }
      ]
    },
    {
      "cell_type": "markdown",
      "source": [
        "# **Program 10**\n",
        "**Write a Pandas program to create and display a DataFrame from a specified dictionary data\n",
        "which has the index labels.**"
      ],
      "metadata": {
        "id": "7bFRv0b2rwZ-"
      }
    },
    {
      "cell_type": "code",
      "source": [
        "# Defining the dictionary\n",
        "exam_data = {\n",
        "    'name': ['Arif', 'Asir', 'Arik', 'Anis', 'Anil', 'Ashish', 'Anahi', 'Alia', 'Alvin', 'Asim'],\n",
        "    'score': [12.5, 9, 16.5, np.nan, 9, 20, 14.5, np.nan, 8, 19],\n",
        "    'attempts': [1, 3, 2, 3, 2, 3, 1, 1, 2, 1],\n",
        "    'qualify': ['yes', 'no', 'yes', 'no', 'no', 'yes', 'yes', 'no', 'no', 'yes']}\n",
        "\n",
        "labels = ['a', 'b', 'c', 'd', 'e', 'f', 'g', 'h', 'i', 'j']\n",
        "\n",
        "# Converting the dictionary to dataframe\n",
        "df = pd.DataFrame(exam_data, index = labels)\n",
        "\n",
        "# Printing the dataframe\n",
        "print(df)"
      ],
      "metadata": {
        "colab": {
          "base_uri": "https://localhost:8080/"
        },
        "id": "-hFSw9dArr2O",
        "outputId": "a2c993e3-b89d-457a-ce2a-4a40132b941d"
      },
      "execution_count": 26,
      "outputs": [
        {
          "output_type": "stream",
          "name": "stdout",
          "text": [
            "     name  score  attempts qualify\n",
            "a    Arif   12.5         1     yes\n",
            "b    Asir    9.0         3      no\n",
            "c    Arik   16.5         2     yes\n",
            "d    Anis    NaN         3      no\n",
            "e    Anil    9.0         2      no\n",
            "f  Ashish   20.0         3     yes\n",
            "g   Anahi   14.5         1     yes\n",
            "h    Alia    NaN         1      no\n",
            "i   Alvin    8.0         2      no\n",
            "j    Asim   19.0         1     yes\n"
          ]
        }
      ]
    }
  ]
}